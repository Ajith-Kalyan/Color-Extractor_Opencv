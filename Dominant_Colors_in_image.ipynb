{
 "cells": [
  {
   "cell_type": "markdown",
   "source": [
    "# Extracting Dominant Colors in an image"
   ],
   "metadata": {
    "collapsed": false
   }
  },
  {
   "cell_type": "code",
   "execution_count": 1,
   "metadata": {
    "collapsed": true
   },
   "outputs": [],
   "source": [
    "import cv2\n",
    "import numpy as np\n",
    "import matplotlib.pyplot as plt"
   ]
  },
  {
   "cell_type": "code",
   "execution_count": 2,
   "outputs": [
    {
     "data": {
      "text/plain": "-1"
     },
     "execution_count": 2,
     "metadata": {},
     "output_type": "execute_result"
    }
   ],
   "source": [
    "img = cv2.imread('data/sunrise.jpg')\n",
    "cv2.imshow('Image', img)\n",
    "\n",
    "cv2.waitKey(0)"
   ],
   "metadata": {
    "collapsed": false
   }
  },
  {
   "cell_type": "code",
   "execution_count": 3,
   "outputs": [
    {
     "name": "stdout",
     "output_type": "stream",
     "text": [
      "675 1200\n"
     ]
    }
   ],
   "source": [
    "height, width, _ = np.shape(img)\n",
    "print(height, width)"
   ],
   "metadata": {
    "collapsed": false
   }
  },
  {
   "cell_type": "code",
   "execution_count": 4,
   "outputs": [],
   "source": [
    "#clustering\n",
    "\n",
    "data = np.reshape(img, (height * width, 3))\n",
    "data = np.float32(data)"
   ],
   "metadata": {
    "collapsed": false
   }
  },
  {
   "cell_type": "code",
   "execution_count": 37,
   "outputs": [],
   "source": [
    "#using opencv kmeans to group and cluster the colors\n",
    "\n",
    "number_clusters = 4 #four dominant colors\n",
    "\n",
    "#Algorithm termination criteria\n",
    "#maximum number of iteration\n",
    "\n",
    "criteria = (cv2.TermCriteria_EPS + cv2.TermCriteria_MAX_ITER, 10, 1.0)"
   ],
   "metadata": {
    "collapsed": false
   }
  },
  {
   "cell_type": "code",
   "execution_count": 38,
   "outputs": [
    {
     "name": "stdout",
     "output_type": "stream",
     "text": [
      "[[ 37.342598 125.47251  137.45035 ]\n",
      " [ 37.43535   50.243023  58.555683]\n",
      " [116.649025 181.29361  236.13045 ]\n",
      " [143.27768   99.895195 130.00177 ]]\n"
     ]
    }
   ],
   "source": [
    "flags = cv2.KMEANS_RANDOM_CENTERS\n",
    "compactness, labels, centers = cv2.kmeans(data, number_clusters, None, criteria, 10, flags)\n",
    "\n",
    "#get the dominant color location\n",
    "print(centers)"
   ],
   "metadata": {
    "collapsed": false
   }
  },
  {
   "cell_type": "code",
   "execution_count": 39,
   "outputs": [],
   "source": [
    "#function to display the dominant colors\n",
    "def create_bar(height, width, color):\n",
    "    bar = np.zeros((height, width, 3), np.uint8)\n",
    "    bar[:] = color\n",
    "    #converting bgr to rgb\n",
    "    red, green, blue = int(color[2]),  int(color[1]), int(color[0])\n",
    "    return bar, (red, green, blue)"
   ],
   "metadata": {
    "collapsed": false
   }
  },
  {
   "cell_type": "code",
   "execution_count": 40,
   "outputs": [
    {
     "data": {
      "text/plain": "-1"
     },
     "execution_count": 40,
     "metadata": {},
     "output_type": "execute_result"
    }
   ],
   "source": [
    "bars = []\n",
    "rgb_values = []\n",
    "\n",
    "for index, row in enumerate(centers):\n",
    "    bar, rgb = create_bar(200,200, row)\n",
    "    bars.append((bar))\n",
    "    rgb_values.append(rgb)\n",
    "\n",
    "img_bar = np.hstack(bars)\n",
    "\n",
    "cv2.imshow('Image', img)\n",
    "cv2.imshow(\"Dominant Colors\", img_bar )\n",
    "cv2.waitKey(0)"
   ],
   "metadata": {
    "collapsed": false
   }
  },
  {
   "cell_type": "code",
   "execution_count": 42,
   "outputs": [
    {
     "name": "stdout",
     "output_type": "stream",
     "text": [
      "4.RGB(130, 99, 143)\n"
     ]
    }
   ],
   "source": [
    "#Adding the RGB values as text in the image\n",
    "font = cv2.FONT_HERSHEY_SIMPLEX\n",
    "for index, row in enumerate(rgb_values):\n",
    "    image = cv2.putText(img_bar, f'{index +1}.RGB:{row}',(5 + 200 * index, 200 - 10), font, 0.5, (255, 0, 0),1,cv2.LINE_AA )\n",
    "print(f\"{index + 1}.RGB{row}\")"
   ],
   "metadata": {
    "collapsed": false
   }
  },
  {
   "cell_type": "code",
   "execution_count": 43,
   "outputs": [
    {
     "data": {
      "text/plain": "-1"
     },
     "execution_count": 43,
     "metadata": {},
     "output_type": "execute_result"
    }
   ],
   "source": [
    "#cv2.imshow('Image', img)\n",
    "cv2.imshow(\"Dominant Colors\", img_bar )\n",
    "cv2.waitKey(0)"
   ],
   "metadata": {
    "collapsed": false
   }
  },
  {
   "cell_type": "code",
   "execution_count": null,
   "outputs": [],
   "source": [],
   "metadata": {
    "collapsed": false
   }
  }
 ],
 "metadata": {
  "kernelspec": {
   "name": "portfolio",
   "language": "python",
   "display_name": "portfolio"
  },
  "language_info": {
   "codemirror_mode": {
    "name": "ipython",
    "version": 2
   },
   "file_extension": ".py",
   "mimetype": "text/x-python",
   "name": "python",
   "nbconvert_exporter": "python",
   "pygments_lexer": "ipython2",
   "version": "2.7.6"
  }
 },
 "nbformat": 4,
 "nbformat_minor": 0
}

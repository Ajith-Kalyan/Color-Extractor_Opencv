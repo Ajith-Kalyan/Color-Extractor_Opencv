{
 "cells": [
  {
   "cell_type": "markdown",
   "source": [
    "#Dependencies\n",
    "\n",
    "pip install colorthief"
   ],
   "metadata": {
    "collapsed": false
   }
  },
  {
   "cell_type": "code",
   "execution_count": 2,
   "outputs": [
    {
     "name": "stdout",
     "output_type": "stream",
     "text": [
      "Collecting colorthief\n",
      "  Downloading colorthief-0.2.1-py2.py3-none-any.whl (6.1 kB)\n",
      "Requirement already satisfied: Pillow in j:\\c\\anaconda\\envs\\portfolio\\lib\\site-packages (from colorthief) (9.3.0)\n",
      "Installing collected packages: colorthief\n",
      "Successfully installed colorthief-0.2.1\n"
     ]
    }
   ],
   "source": [
    "!pip install colorthief"
   ],
   "metadata": {
    "collapsed": false
   }
  },
  {
   "cell_type": "code",
   "execution_count": 4,
   "metadata": {
    "collapsed": true
   },
   "outputs": [],
   "source": [
    "from colorthief import ColorThief\n",
    "import matplotlib.pyplot as plt\n",
    "import cv2"
   ]
  },
  {
   "cell_type": "code",
   "execution_count": 5,
   "outputs": [],
   "source": [
    "#fetch the image\n",
    "ct = ColorThief(\"data/tshirt.jpg\")\n",
    "dominant_color = ct.get_color(quality=1)"
   ],
   "metadata": {
    "collapsed": false
   }
  },
  {
   "cell_type": "code",
   "execution_count": 6,
   "outputs": [
    {
     "data": {
      "text/plain": "<Figure size 640x480 with 1 Axes>",
      "image/png": "[encoded data removed]"
     },
     "metadata": {},
     "output_type": "display_data"
    }
   ],
   "source": [
    "plt.imshow([[dominant_color]])\n",
    "plt.show()"
   ],
   "metadata": {
    "collapsed": false
   }
  },
  {
   "cell_type": "code",
   "execution_count": 17,
   "outputs": [
    {
     "data": {
      "text/plain": "<Figure size 640x480 with 1 Axes>",
      "image/png": "[encoded data removed]"
     },
     "metadata": {},
     "output_type": "display_data"
    }
   ],
   "source": [
    "#to display all the colors\n",
    "palette = ct.get_palette(color_count=4)\n",
    "plt.imshow([[palette[i] for i in range(4)]])\n",
    "plt.show()"
   ],
   "metadata": {
    "collapsed": false
   }
  },
  {
   "cell_type": "markdown",
   "source": [
    "# Fetching the RGB to HEX values of the colors"
   ],
   "metadata": {
    "collapsed": false
   }
  },
  {
   "cell_type": "code",
   "execution_count": 15,
   "outputs": [],
   "source": [
    "import colorsys"
   ],
   "metadata": {
    "collapsed": false
   }
  },
  {
   "cell_type": "code",
   "execution_count": 18,
   "outputs": [
    {
     "name": "stdout",
     "output_type": "stream",
     "text": [
      "Color (69, 88, 109)\n",
      "#45586d\n",
      "(0.5875, 0.3669724770642202, 109)\n",
      "(0.5875, 89.0, -0.22727272727272727)\n",
      "Color (197, 214, 220)\n",
      "#c5d6dc\n",
      "(0.5434782608695653, 0.10454545454545454, 220)\n",
      "(0.5434782608695653, 208.5, -0.05542168674698795)\n",
      "Color (160, 186, 200)\n",
      "#a0bac8\n",
      "(0.5583333333333332, 0.2, 200)\n",
      "(0.5583333333333332, 180.0, -0.11173184357541899)\n",
      "Color (145, 169, 189)\n",
      "#91a9bd\n",
      "(0.5757575757575757, 0.2328042328042328, 189)\n",
      "(0.5757575757575757, 167.0, -0.13253012048192772)\n"
     ]
    }
   ],
   "source": [
    "for color in palette:\n",
    "    print(\"Color\",color)\n",
    "    print(f'#{color[0]:02x}{color[1]:02x}{color[2]:02x}')\n",
    "    print(colorsys.rgb_to_hsv(*color))\n",
    "    print(colorsys.rgb_to_hls(*color))"
   ],
   "metadata": {
    "collapsed": false
   }
  },
  {
   "cell_type": "code",
   "execution_count": null,
   "outputs": [],
   "source": [],
   "metadata": {
    "collapsed": false
   }
  }
 ],
 "metadata": {
  "kernelspec": {
   "name": "portfolio",
   "language": "python",
   "display_name": "portfolio"
  },
  "language_info": {
   "codemirror_mode": {
    "name": "ipython",
    "version": 2
   },
   "file_extension": ".py",
   "mimetype": "text/x-python",
   "name": "python",
   "nbconvert_exporter": "python",
   "pygments_lexer": "ipython2",
   "version": "2.7.6"
  }
 },
 "nbformat": 4,
 "nbformat_minor": 0
}
